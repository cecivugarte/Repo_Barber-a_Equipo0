{
 "cells": [
  {
   "cell_type": "code",
   "execution_count": null,
   "metadata": {
    "colab": {
     "base_uri": "https://localhost:8080/",
     "height": 588
    },
    "id": "WlA-VOCixOAx",
    "outputId": "c12cd4d2-2388-4e3e-ca3c-36437b5954d1"
   },
   "outputs": [
    {
     "name": "stderr",
     "output_type": "stream",
     "text": [
      "/usr/local/lib/python3.10/dist-packages/altair/utils/core.py:384: FutureWarning: the convert_dtype parameter is deprecated and will be removed in a future version.  Do ``ser.astype(object).apply()`` instead if you want ``convert_dtype=False``.\n",
      "  col = df[col_name].apply(to_list_if_array, convert_dtype=False)\n"
     ]
    },
    {
     "data": {
      "text/html": [
       "\n",
       "<div id=\"altair-viz-90e8d467968a44be9216faa0b0029c1a\"></div>\n",
       "<script type=\"text/javascript\">\n",
       "  var VEGA_DEBUG = (typeof VEGA_DEBUG == \"undefined\") ? {} : VEGA_DEBUG;\n",
       "  (function(spec, embedOpt){\n",
       "    let outputDiv = document.currentScript.previousElementSibling;\n",
       "    if (outputDiv.id !== \"altair-viz-90e8d467968a44be9216faa0b0029c1a\") {\n",
       "      outputDiv = document.getElementById(\"altair-viz-90e8d467968a44be9216faa0b0029c1a\");\n",
       "    }\n",
       "    const paths = {\n",
       "      \"vega\": \"https://cdn.jsdelivr.net/npm//vega@5?noext\",\n",
       "      \"vega-lib\": \"https://cdn.jsdelivr.net/npm//vega-lib?noext\",\n",
       "      \"vega-lite\": \"https://cdn.jsdelivr.net/npm//vega-lite@4.17.0?noext\",\n",
       "      \"vega-embed\": \"https://cdn.jsdelivr.net/npm//vega-embed@6?noext\",\n",
       "    };\n",
       "\n",
       "    function maybeLoadScript(lib, version) {\n",
       "      var key = `${lib.replace(\"-\", \"\")}_version`;\n",
       "      return (VEGA_DEBUG[key] == version) ?\n",
       "        Promise.resolve(paths[lib]) :\n",
       "        new Promise(function(resolve, reject) {\n",
       "          var s = document.createElement('script');\n",
       "          document.getElementsByTagName(\"head\")[0].appendChild(s);\n",
       "          s.async = true;\n",
       "          s.onload = () => {\n",
       "            VEGA_DEBUG[key] = version;\n",
       "            return resolve(paths[lib]);\n",
       "          };\n",
       "          s.onerror = () => reject(`Error loading script: ${paths[lib]}`);\n",
       "          s.src = paths[lib];\n",
       "        });\n",
       "    }\n",
       "\n",
       "    function showError(err) {\n",
       "      outputDiv.innerHTML = `<div class=\"error\" style=\"color:red;\">${err}</div>`;\n",
       "      throw err;\n",
       "    }\n",
       "\n",
       "    function displayChart(vegaEmbed) {\n",
       "      vegaEmbed(outputDiv, spec, embedOpt)\n",
       "        .catch(err => showError(`Javascript Error: ${err.message}<br>This usually means there's a typo in your chart specification. See the javascript console for the full traceback.`));\n",
       "    }\n",
       "\n",
       "    if(typeof define === \"function\" && define.amd) {\n",
       "      requirejs.config({paths});\n",
       "      require([\"vega-embed\"], displayChart, err => showError(`Error loading script: ${err.message}`));\n",
       "    } else {\n",
       "      maybeLoadScript(\"vega\", \"5\")\n",
       "        .then(() => maybeLoadScript(\"vega-lite\", \"4.17.0\"))\n",
       "        .then(() => maybeLoadScript(\"vega-embed\", \"6\"))\n",
       "        .catch(showError)\n",
       "        .then(() => displayChart(vegaEmbed));\n",
       "    }\n",
       "  })({\"config\": {\"view\": {\"continuousWidth\": 400, \"continuousHeight\": 300}}, \"data\": {\"name\": \"data-67262e75d55786e647b777b18d0e50f3\"}, \"mark\": \"bar\", \"encoding\": {\"tooltip\": [{\"field\": \"Localidad\", \"type\": \"nominal\"}, {\"field\": \"Cambio (%)\", \"type\": \"quantitative\"}], \"x\": {\"field\": \"Localidad\", \"sort\": \"-y\", \"title\": \"Localidad\", \"type\": \"nominal\"}, \"y\": {\"field\": \"Cambio (%)\", \"title\": \"Cambio Porcentual (%)\", \"type\": \"quantitative\"}}, \"height\": 400, \"title\": \"Cambio Porcentual en las 5 Comunas con M\\u00e1s Barber\\u00edas (2019-2022)\", \"width\": 600, \"$schema\": \"https://vega.github.io/schema/vega-lite/v4.17.0.json\", \"datasets\": {\"data-67262e75d55786e647b777b18d0e50f3\": [{\"Localidad\": \"Total general\", \"Barberias_2019\": 6828, \"Barberias_2022\": 8092, \"Cambio (%)\": 18.512009373169303}, {\"Localidad\": \"Santiago\", \"Barberias_2019\": 853, \"Barberias_2022\": 1047, \"Cambio (%)\": 22.743259085580306}, {\"Localidad\": \"Providencia\", \"Barberias_2019\": 724, \"Barberias_2022\": 928, \"Cambio (%)\": 28.176795580110497}, {\"Localidad\": \"Las Condes\", \"Barberias_2019\": 530, \"Barberias_2022\": 770, \"Cambio (%)\": 45.28301886792453}, {\"Localidad\": \"Puente Alto\", \"Barberias_2019\": 550, \"Barberias_2022\": 592, \"Cambio (%)\": 7.636363636363637}]}}, {\"mode\": \"vega-lite\"});\n",
       "</script>"
      ],
      "text/plain": [
       "alt.Chart(...)"
      ]
     },
     "metadata": {},
     "output_type": "display_data"
    }
   ],
   "source": [
    "\n",
    "!pip install altair --quiet\n",
    "\n",
    "\n",
    "import pandas as pd\n",
    "import altair as alt\n",
    "\n",
    "\n",
    "file_path = '/content/Cecilia_Vidal_database (Autoguardado).csv'  \n",
    "\n",
    "\n",
    "data = pd.read_csv(file_path, encoding='latin1', sep=';')\n",
    "\n",
    "\n",
    "data.columns = ['Localidad', 'Barberias_2019', 'Barberias_2022']\n",
    "\n",
    "\n",
    "data['Barberias_2019'] = pd.to_numeric(data['Barberias_2019'], errors='coerce')\n",
    "data['Barberias_2022'] = pd.to_numeric(data['Barberias_2022'], errors='coerce')\n",
    "\n",
    "\n",
    "data['Cambio (%)'] = ((data['Barberias_2022'] - data['Barberias_2019']) / data['Barberias_2019']) * 100\n",
    "\n",
    "\n",
    "top_5 = data.sort_values(by='Barberias_2022', ascending=False).head(5)\n",
    "\n",
    "\n",
    "chart = alt.Chart(top_5).mark_bar().encode(\n",
    "    x=alt.X('Localidad:N', title='Localidad', sort='-y'),\n",
    "    y=alt.Y('Cambio (%)', title='Cambio Porcentual (%)'),\n",
    "    tooltip=['Localidad', 'Cambio (%)']\n",
    ").properties(\n",
    "    title='Cambio Porcentual en las 5 Comunas con Más Barberías (2019-2022)',\n",
    "    width=600,\n",
    "    height=400\n",
    ")\n",
    "\n",
    "\n",
    "chart.display()\n"
   ]
  }
 ],
 "metadata": {
  "colab": {
   "provenance": []
  },
  "kernelspec": {
   "display_name": "Python 3",
   "name": "python3"
  },
  "language_info": {
   "name": "python"
  }
 },
 "nbformat": 4,
 "nbformat_minor": 0
}
