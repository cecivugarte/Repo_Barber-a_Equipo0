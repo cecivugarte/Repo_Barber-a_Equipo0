{
  "nbformat": 4,
  "nbformat_minor": 0,
  "metadata": {
    "colab": {
      "provenance": []
    },
    "kernelspec": {
      "name": "python3",
      "display_name": "Python 3"
    },
    "language_info": {
      "name": "python"
    }
  },
  "cells": [
    {
      "cell_type": "code",
      "source": [
        "# Instalar Altair si no está instalado\n",
        "!pip install altair pandas vega-datasets\n",
        "\n",
        "# Importar bibliotecas\n",
        "import pandas as pd\n",
        "import altair as alt\n",
        "\n",
        "# Cargar los datos desde un archivo local\n",
        "file_path = '/content/Daniel_database_ocupada.csv'  # Cambia esto por el nombre y ruta de tu archivo CSV\n",
        "data = pd.read_csv(file_path, encoding='latin1', sep=';')  # Usar ';' como delimitador si es necesario\n",
        "\n",
        "# Limpiar los nombres de las columnas\n",
        "data.columns = data.columns.str.strip()  # Eliminar espacios en blanco al inicio y final\n",
        "\n",
        "# Verificar los nombres de las columnas después de limpiar\n",
        "print(\"Columnas después de limpiar:\", data.columns.tolist())\n",
        "\n",
        "# Asignar los nombres exactos de las columnas que deseas utilizar\n",
        "etiqueta_col = 'Comunas'\n",
        "barberias_2019_col = 'Suma_de_Numero_de_Barberias_2019'\n",
        "barberias_2022_col = 'Suma_de_Numero_de_Barberias_2022'\n",
        "\n",
        "# Filtrar y seleccionar columnas necesarias\n",
        "data_filtered = data[[etiqueta_col, barberias_2019_col, barberias_2022_col]]\n",
        "\n",
        "# Calcular el cambio porcentual\n",
        "data_filtered['Cambio_Porcentual'] = ((data_filtered[barberias_2022_col] - data_filtered[barberias_2019_col]) / data_filtered[barberias_2019_col]) * 100\n",
        "\n",
        "# Añadir una columna para diferenciar Total General de Comunas\n",
        "data_filtered['Tipo'] = data_filtered[etiqueta_col].apply(lambda x: 'Total General' if 'Total general' in x.lower() else 'Comuna')\n",
        "\n",
        "# Crear el gráfico de círculos proporcionales\n",
        "graph = alt.Chart(data_filtered).mark_circle().encode(\n",
        "    x=alt.X('Cambio_Porcentual:Q', sort='descending', title='Cambio Porcentual (%)'),\n",
        "    y=alt.Y(f'{etiqueta_col}:N', sort='-x', title='Comunas'),\n",
        "    size=alt.Size('Cambio_Porcentual:Q', title='Cambio Porcentual (%)', legend=None),\n",
        "    color=alt.Color('Tipo:N', scale=alt.Scale(domain=['Comuna', 'Total General'], range=['steelblue', 'orange']), legend=alt.Legend(title='Tipo de Localidad')),\n",
        "    tooltip=[etiqueta_col, 'Cambio_Porcentual']\n",
        ").properties(\n",
        "    width=800,\n",
        "    height=500,\n",
        "    title='Crecimiento del Número de Barberías por Comuna (2019-2022) con Total General Destacado'\n",
        ")\n",
        "\n",
        "# Mostrar el gráfico\n",
        "graph\n"
      ],
      "metadata": {
        "colab": {
          "base_uri": "https://localhost:8080/",
          "height": 987
        },
        "id": "hL9iotp6QUgp",
        "outputId": "b4020a4f-4fd7-473d-abc0-adf1b24498a5"
      },
      "execution_count": null,
      "outputs": [
        {
          "output_type": "stream",
          "name": "stdout",
          "text": [
            "Requirement already satisfied: altair in /usr/local/lib/python3.10/dist-packages (4.2.2)\n",
            "Requirement already satisfied: pandas in /usr/local/lib/python3.10/dist-packages (2.2.2)\n",
            "Requirement already satisfied: vega-datasets in /usr/local/lib/python3.10/dist-packages (0.9.0)\n",
            "Requirement already satisfied: entrypoints in /usr/local/lib/python3.10/dist-packages (from altair) (0.4)\n",
            "Requirement already satisfied: jinja2 in /usr/local/lib/python3.10/dist-packages (from altair) (3.1.4)\n",
            "Requirement already satisfied: jsonschema>=3.0 in /usr/local/lib/python3.10/dist-packages (from altair) (4.23.0)\n",
            "Requirement already satisfied: numpy in /usr/local/lib/python3.10/dist-packages (from altair) (1.26.4)\n",
            "Requirement already satisfied: toolz in /usr/local/lib/python3.10/dist-packages (from altair) (0.12.1)\n",
            "Requirement already satisfied: python-dateutil>=2.8.2 in /usr/local/lib/python3.10/dist-packages (from pandas) (2.8.2)\n",
            "Requirement already satisfied: pytz>=2020.1 in /usr/local/lib/python3.10/dist-packages (from pandas) (2024.2)\n",
            "Requirement already satisfied: tzdata>=2022.7 in /usr/local/lib/python3.10/dist-packages (from pandas) (2024.2)\n",
            "Requirement already satisfied: attrs>=22.2.0 in /usr/local/lib/python3.10/dist-packages (from jsonschema>=3.0->altair) (24.2.0)\n",
            "Requirement already satisfied: jsonschema-specifications>=2023.03.6 in /usr/local/lib/python3.10/dist-packages (from jsonschema>=3.0->altair) (2024.10.1)\n",
            "Requirement already satisfied: referencing>=0.28.4 in /usr/local/lib/python3.10/dist-packages (from jsonschema>=3.0->altair) (0.35.1)\n",
            "Requirement already satisfied: rpds-py>=0.7.1 in /usr/local/lib/python3.10/dist-packages (from jsonschema>=3.0->altair) (0.21.0)\n",
            "Requirement already satisfied: six>=1.5 in /usr/local/lib/python3.10/dist-packages (from python-dateutil>=2.8.2->pandas) (1.16.0)\n",
            "Requirement already satisfied: MarkupSafe>=2.0 in /usr/local/lib/python3.10/dist-packages (from jinja2->altair) (3.0.2)\n",
            "Columnas después de limpiar: ['Comunas', 'Suma_de_Numero_de_Barberias_2019', 'Suma_de_Numero_de_Barberias_2022']\n"
          ]
        },
        {
          "output_type": "stream",
          "name": "stderr",
          "text": [
            "/usr/local/lib/python3.10/dist-packages/altair/utils/core.py:384: FutureWarning: the convert_dtype parameter is deprecated and will be removed in a future version.  Do ``ser.astype(object).apply()`` instead if you want ``convert_dtype=False``.\n",
            "  col = df[col_name].apply(to_list_if_array, convert_dtype=False)\n",
            "/usr/local/lib/python3.10/dist-packages/altair/utils/core.py:384: FutureWarning: the convert_dtype parameter is deprecated and will be removed in a future version.  Do ``ser.astype(object).apply()`` instead if you want ``convert_dtype=False``.\n",
            "  col = df[col_name].apply(to_list_if_array, convert_dtype=False)\n"
          ]
        },
        {
          "output_type": "execute_result",
          "data": {
            "text/html": [
              "\n",
              "<div id=\"altair-viz-1923bbf1ff8f4991a5c47c038dac846e\"></div>\n",
              "<script type=\"text/javascript\">\n",
              "  var VEGA_DEBUG = (typeof VEGA_DEBUG == \"undefined\") ? {} : VEGA_DEBUG;\n",
              "  (function(spec, embedOpt){\n",
              "    let outputDiv = document.currentScript.previousElementSibling;\n",
              "    if (outputDiv.id !== \"altair-viz-1923bbf1ff8f4991a5c47c038dac846e\") {\n",
              "      outputDiv = document.getElementById(\"altair-viz-1923bbf1ff8f4991a5c47c038dac846e\");\n",
              "    }\n",
              "    const paths = {\n",
              "      \"vega\": \"https://cdn.jsdelivr.net/npm//vega@5?noext\",\n",
              "      \"vega-lib\": \"https://cdn.jsdelivr.net/npm//vega-lib?noext\",\n",
              "      \"vega-lite\": \"https://cdn.jsdelivr.net/npm//vega-lite@4.17.0?noext\",\n",
              "      \"vega-embed\": \"https://cdn.jsdelivr.net/npm//vega-embed@6?noext\",\n",
              "    };\n",
              "\n",
              "    function maybeLoadScript(lib, version) {\n",
              "      var key = `${lib.replace(\"-\", \"\")}_version`;\n",
              "      return (VEGA_DEBUG[key] == version) ?\n",
              "        Promise.resolve(paths[lib]) :\n",
              "        new Promise(function(resolve, reject) {\n",
              "          var s = document.createElement('script');\n",
              "          document.getElementsByTagName(\"head\")[0].appendChild(s);\n",
              "          s.async = true;\n",
              "          s.onload = () => {\n",
              "            VEGA_DEBUG[key] = version;\n",
              "            return resolve(paths[lib]);\n",
              "          };\n",
              "          s.onerror = () => reject(`Error loading script: ${paths[lib]}`);\n",
              "          s.src = paths[lib];\n",
              "        });\n",
              "    }\n",
              "\n",
              "    function showError(err) {\n",
              "      outputDiv.innerHTML = `<div class=\"error\" style=\"color:red;\">${err}</div>`;\n",
              "      throw err;\n",
              "    }\n",
              "\n",
              "    function displayChart(vegaEmbed) {\n",
              "      vegaEmbed(outputDiv, spec, embedOpt)\n",
              "        .catch(err => showError(`Javascript Error: ${err.message}<br>This usually means there's a typo in your chart specification. See the javascript console for the full traceback.`));\n",
              "    }\n",
              "\n",
              "    if(typeof define === \"function\" && define.amd) {\n",
              "      requirejs.config({paths});\n",
              "      require([\"vega-embed\"], displayChart, err => showError(`Error loading script: ${err.message}`));\n",
              "    } else {\n",
              "      maybeLoadScript(\"vega\", \"5\")\n",
              "        .then(() => maybeLoadScript(\"vega-lite\", \"4.17.0\"))\n",
              "        .then(() => maybeLoadScript(\"vega-embed\", \"6\"))\n",
              "        .catch(showError)\n",
              "        .then(() => displayChart(vegaEmbed));\n",
              "    }\n",
              "  })({\"config\": {\"view\": {\"continuousWidth\": 400, \"continuousHeight\": 300}}, \"data\": {\"name\": \"data-042a520af0515689bbe3e2c67b27a3f6\"}, \"mark\": \"circle\", \"encoding\": {\"color\": {\"field\": \"Tipo\", \"legend\": {\"title\": \"Tipo de Localidad\"}, \"scale\": {\"domain\": [\"Comuna\", \"Total General\"], \"range\": [\"steelblue\", \"orange\"]}, \"type\": \"nominal\"}, \"size\": {\"field\": \"Cambio_Porcentual\", \"legend\": null, \"title\": \"Cambio Porcentual (%)\", \"type\": \"quantitative\"}, \"tooltip\": [{\"field\": \"Comunas\", \"type\": \"nominal\"}, {\"field\": \"Cambio_Porcentual\", \"type\": \"quantitative\"}], \"x\": {\"field\": \"Cambio_Porcentual\", \"sort\": \"descending\", \"title\": \"Cambio Porcentual (%)\", \"type\": \"quantitative\"}, \"y\": {\"field\": \"Comunas\", \"sort\": \"-x\", \"title\": \"Comunas\", \"type\": \"nominal\"}}, \"height\": 500, \"title\": \"Crecimiento del N\\u00famero de Barber\\u00edas por Comuna (2019-2022) con Total General Destacado\", \"width\": 800, \"$schema\": \"https://vega.github.io/schema/vega-lite/v4.17.0.json\", \"datasets\": {\"data-042a520af0515689bbe3e2c67b27a3f6\": [{\"Comunas\": \"Alhu\\u00e9\", \"Suma_de_Numero_de_Barberias_2019\": 1, \"Suma_de_Numero_de_Barberias_2022\": 0, \"Cambio_Porcentual\": -100.0, \"Tipo\": \"Comuna\"}, {\"Comunas\": \"Buin\", \"Suma_de_Numero_de_Barberias_2019\": 48, \"Suma_de_Numero_de_Barberias_2022\": 69, \"Cambio_Porcentual\": 43.75, \"Tipo\": \"Comuna\"}, {\"Comunas\": \"Calera de Tango\", \"Suma_de_Numero_de_Barberias_2019\": 16, \"Suma_de_Numero_de_Barberias_2022\": 16, \"Cambio_Porcentual\": 0.0, \"Tipo\": \"Comuna\"}, {\"Comunas\": \"Cerrillos\", \"Suma_de_Numero_de_Barberias_2019\": 28, \"Suma_de_Numero_de_Barberias_2022\": 62, \"Cambio_Porcentual\": 121.42857142857142, \"Tipo\": \"Comuna\"}, {\"Comunas\": \"Cerro Navia\", \"Suma_de_Numero_de_Barberias_2019\": 72, \"Suma_de_Numero_de_Barberias_2022\": 59, \"Cambio_Porcentual\": -18.055555555555554, \"Tipo\": \"Comuna\"}, {\"Comunas\": \"Colina\", \"Suma_de_Numero_de_Barberias_2019\": 112, \"Suma_de_Numero_de_Barberias_2022\": 134, \"Cambio_Porcentual\": 19.642857142857142, \"Tipo\": \"Comuna\"}, {\"Comunas\": \"Conchal\\u00ed\", \"Suma_de_Numero_de_Barberias_2019\": 99, \"Suma_de_Numero_de_Barberias_2022\": 91, \"Cambio_Porcentual\": -8.080808080808081, \"Tipo\": \"Comuna\"}, {\"Comunas\": \"Curacav\\u00ed\", \"Suma_de_Numero_de_Barberias_2019\": 13, \"Suma_de_Numero_de_Barberias_2022\": 24, \"Cambio_Porcentual\": 84.61538461538461, \"Tipo\": \"Comuna\"}, {\"Comunas\": \"El Bosque\", \"Suma_de_Numero_de_Barberias_2019\": 74, \"Suma_de_Numero_de_Barberias_2022\": 70, \"Cambio_Porcentual\": -5.405405405405405, \"Tipo\": \"Comuna\"}, {\"Comunas\": \"El Monte\", \"Suma_de_Numero_de_Barberias_2019\": 9, \"Suma_de_Numero_de_Barberias_2022\": 12, \"Cambio_Porcentual\": 33.33333333333333, \"Tipo\": \"Comuna\"}, {\"Comunas\": \"Estaci\\u00f3n Central\", \"Suma_de_Numero_de_Barberias_2019\": 144, \"Suma_de_Numero_de_Barberias_2022\": 171, \"Cambio_Porcentual\": 18.75, \"Tipo\": \"Comuna\"}, {\"Comunas\": \"Huechuraba\", \"Suma_de_Numero_de_Barberias_2019\": 58, \"Suma_de_Numero_de_Barberias_2022\": 97, \"Cambio_Porcentual\": 67.24137931034483, \"Tipo\": \"Comuna\"}, {\"Comunas\": \"Independencia\", \"Suma_de_Numero_de_Barberias_2019\": 79, \"Suma_de_Numero_de_Barberias_2022\": 95, \"Cambio_Porcentual\": 20.253164556962027, \"Tipo\": \"Comuna\"}, {\"Comunas\": \"Isla de Maipo\", \"Suma_de_Numero_de_Barberias_2019\": 21, \"Suma_de_Numero_de_Barberias_2022\": 24, \"Cambio_Porcentual\": 14.285714285714285, \"Tipo\": \"Comuna\"}, {\"Comunas\": \"La Cisterna\", \"Suma_de_Numero_de_Barberias_2019\": 82, \"Suma_de_Numero_de_Barberias_2022\": 103, \"Cambio_Porcentual\": 25.609756097560975, \"Tipo\": \"Comuna\"}, {\"Comunas\": \"La Florida\", \"Suma_de_Numero_de_Barberias_2019\": 404, \"Suma_de_Numero_de_Barberias_2022\": 460, \"Cambio_Porcentual\": 13.861386138613863, \"Tipo\": \"Comuna\"}, {\"Comunas\": \"La Granja\", \"Suma_de_Numero_de_Barberias_2019\": 47, \"Suma_de_Numero_de_Barberias_2022\": 46, \"Cambio_Porcentual\": -2.127659574468085, \"Tipo\": \"Comuna\"}, {\"Comunas\": \"La Pintana\", \"Suma_de_Numero_de_Barberias_2019\": 48, \"Suma_de_Numero_de_Barberias_2022\": 50, \"Cambio_Porcentual\": 4.166666666666666, \"Tipo\": \"Comuna\"}, {\"Comunas\": \"La Reina\", \"Suma_de_Numero_de_Barberias_2019\": 93, \"Suma_de_Numero_de_Barberias_2022\": 104, \"Cambio_Porcentual\": 11.827956989247312, \"Tipo\": \"Comuna\"}, {\"Comunas\": \"Lampa\", \"Suma_de_Numero_de_Barberias_2019\": 62, \"Suma_de_Numero_de_Barberias_2022\": 104, \"Cambio_Porcentual\": 67.74193548387096, \"Tipo\": \"Comuna\"}, {\"Comunas\": \"Las Condes\", \"Suma_de_Numero_de_Barberias_2019\": 530, \"Suma_de_Numero_de_Barberias_2022\": 770, \"Cambio_Porcentual\": 45.28301886792453, \"Tipo\": \"Comuna\"}, {\"Comunas\": \"Lo Barnechea\", \"Suma_de_Numero_de_Barberias_2019\": 76, \"Suma_de_Numero_de_Barberias_2022\": 127, \"Cambio_Porcentual\": 67.10526315789474, \"Tipo\": \"Comuna\"}, {\"Comunas\": \"Lo Espejo\", \"Suma_de_Numero_de_Barberias_2019\": 45, \"Suma_de_Numero_de_Barberias_2022\": 50, \"Cambio_Porcentual\": 11.11111111111111, \"Tipo\": \"Comuna\"}, {\"Comunas\": \"Lo Prado\", \"Suma_de_Numero_de_Barberias_2019\": 77, \"Suma_de_Numero_de_Barberias_2022\": 84, \"Cambio_Porcentual\": 9.090909090909092, \"Tipo\": \"Comuna\"}, {\"Comunas\": \"Macul\", \"Suma_de_Numero_de_Barberias_2019\": 75, \"Suma_de_Numero_de_Barberias_2022\": 87, \"Cambio_Porcentual\": 16.0, \"Tipo\": \"Comuna\"}, {\"Comunas\": \"Maip\\u00fa\", \"Suma_de_Numero_de_Barberias_2019\": 444, \"Suma_de_Numero_de_Barberias_2022\": 467, \"Cambio_Porcentual\": 5.18018018018018, \"Tipo\": \"Comuna\"}, {\"Comunas\": \"Mar\\u00eda Pinto\", \"Suma_de_Numero_de_Barberias_2019\": 1, \"Suma_de_Numero_de_Barberias_2022\": 3, \"Cambio_Porcentual\": 200.0, \"Tipo\": \"Comuna\"}, {\"Comunas\": \"Melipilla\", \"Suma_de_Numero_de_Barberias_2019\": 61, \"Suma_de_Numero_de_Barberias_2022\": 70, \"Cambio_Porcentual\": 14.754098360655737, \"Tipo\": \"Comuna\"}, {\"Comunas\": \"\\u00d1u\\u00f1oa\", \"Suma_de_Numero_de_Barberias_2019\": 270, \"Suma_de_Numero_de_Barberias_2022\": 281, \"Cambio_Porcentual\": 4.074074074074074, \"Tipo\": \"Comuna\"}, {\"Comunas\": \"Padre Hurtado\", \"Suma_de_Numero_de_Barberias_2019\": 39, \"Suma_de_Numero_de_Barberias_2022\": 52, \"Cambio_Porcentual\": 33.33333333333333, \"Tipo\": \"Comuna\"}, {\"Comunas\": \"Paine\", \"Suma_de_Numero_de_Barberias_2019\": 13, \"Suma_de_Numero_de_Barberias_2022\": 18, \"Cambio_Porcentual\": 38.46153846153847, \"Tipo\": \"Comuna\"}, {\"Comunas\": \"Pedro Aguirre Cerda\", \"Suma_de_Numero_de_Barberias_2019\": 49, \"Suma_de_Numero_de_Barberias_2022\": 55, \"Cambio_Porcentual\": 12.244897959183673, \"Tipo\": \"Comuna\"}, {\"Comunas\": \"Pe\\u00f1aflor\", \"Suma_de_Numero_de_Barberias_2019\": 69, \"Suma_de_Numero_de_Barberias_2022\": 52, \"Cambio_Porcentual\": -24.637681159420293, \"Tipo\": \"Comuna\"}, {\"Comunas\": \"Pe\\u00f1alol\\u00e9n\", \"Suma_de_Numero_de_Barberias_2019\": 132, \"Suma_de_Numero_de_Barberias_2022\": 169, \"Cambio_Porcentual\": 28.030303030303028, \"Tipo\": \"Comuna\"}, {\"Comunas\": \"Pirque\", \"Suma_de_Numero_de_Barberias_2019\": 16, \"Suma_de_Numero_de_Barberias_2022\": 12, \"Cambio_Porcentual\": -25.0, \"Tipo\": \"Comuna\"}, {\"Comunas\": \"Providencia\", \"Suma_de_Numero_de_Barberias_2019\": 724, \"Suma_de_Numero_de_Barberias_2022\": 928, \"Cambio_Porcentual\": 28.176795580110497, \"Tipo\": \"Comuna\"}, {\"Comunas\": \"Pudahuel\", \"Suma_de_Numero_de_Barberias_2019\": 143, \"Suma_de_Numero_de_Barberias_2022\": 163, \"Cambio_Porcentual\": 13.986013986013987, \"Tipo\": \"Comuna\"}, {\"Comunas\": \"Puente Alto\", \"Suma_de_Numero_de_Barberias_2019\": 550, \"Suma_de_Numero_de_Barberias_2022\": 592, \"Cambio_Porcentual\": 7.636363636363637, \"Tipo\": \"Comuna\"}, {\"Comunas\": \"Quilicura\", \"Suma_de_Numero_de_Barberias_2019\": 154, \"Suma_de_Numero_de_Barberias_2022\": 176, \"Cambio_Porcentual\": 14.285714285714285, \"Tipo\": \"Comuna\"}, {\"Comunas\": \"Quinta Normal\", \"Suma_de_Numero_de_Barberias_2019\": 75, \"Suma_de_Numero_de_Barberias_2022\": 89, \"Cambio_Porcentual\": 18.666666666666668, \"Tipo\": \"Comuna\"}, {\"Comunas\": \"Recoleta\", \"Suma_de_Numero_de_Barberias_2019\": 161, \"Suma_de_Numero_de_Barberias_2022\": 155, \"Cambio_Porcentual\": -3.7267080745341614, \"Tipo\": \"Comuna\"}, {\"Comunas\": \"Renca\", \"Suma_de_Numero_de_Barberias_2019\": 74, \"Suma_de_Numero_de_Barberias_2022\": 64, \"Cambio_Porcentual\": -13.513513513513514, \"Tipo\": \"Comuna\"}, {\"Comunas\": \"San Bernardo\", \"Suma_de_Numero_de_Barberias_2019\": 141, \"Suma_de_Numero_de_Barberias_2022\": 170, \"Cambio_Porcentual\": 20.56737588652482, \"Tipo\": \"Comuna\"}, {\"Comunas\": \"San Joaqu\\u00edn\", \"Suma_de_Numero_de_Barberias_2019\": 42, \"Suma_de_Numero_de_Barberias_2022\": 49, \"Cambio_Porcentual\": 16.666666666666664, \"Tipo\": \"Comuna\"}, {\"Comunas\": \"San Jos\\u00e9 de Maipo\", \"Suma_de_Numero_de_Barberias_2019\": 3, \"Suma_de_Numero_de_Barberias_2022\": 9, \"Cambio_Porcentual\": 200.0, \"Tipo\": \"Comuna\"}, {\"Comunas\": \"San Miguel\", \"Suma_de_Numero_de_Barberias_2019\": 110, \"Suma_de_Numero_de_Barberias_2022\": 150, \"Cambio_Porcentual\": 36.36363636363637, \"Tipo\": \"Comuna\"}, {\"Comunas\": \"San Pedro\", \"Suma_de_Numero_de_Barberias_2019\": 0, \"Suma_de_Numero_de_Barberias_2022\": 0, \"Cambio_Porcentual\": null, \"Tipo\": \"Comuna\"}, {\"Comunas\": \"San Ram\\u00f3n\", \"Suma_de_Numero_de_Barberias_2019\": 49, \"Suma_de_Numero_de_Barberias_2022\": 45, \"Cambio_Porcentual\": -8.16326530612245, \"Tipo\": \"Comuna\"}, {\"Comunas\": \"Santiago\", \"Suma_de_Numero_de_Barberias_2019\": 853, \"Suma_de_Numero_de_Barberias_2022\": 1047, \"Cambio_Porcentual\": 22.743259085580306, \"Tipo\": \"Comuna\"}, {\"Comunas\": \"Talagante\", \"Suma_de_Numero_de_Barberias_2019\": 68, \"Suma_de_Numero_de_Barberias_2022\": 74, \"Cambio_Porcentual\": 8.823529411764707, \"Tipo\": \"Comuna\"}, {\"Comunas\": \"Tiltil\", \"Suma_de_Numero_de_Barberias_2019\": 2, \"Suma_de_Numero_de_Barberias_2022\": 6, \"Cambio_Porcentual\": 200.0, \"Tipo\": \"Comuna\"}, {\"Comunas\": \"Vitacura\", \"Suma_de_Numero_de_Barberias_2019\": 272, \"Suma_de_Numero_de_Barberias_2022\": 287, \"Cambio_Porcentual\": 5.514705882352941, \"Tipo\": \"Comuna\"}, {\"Comunas\": \"Total general\", \"Suma_de_Numero_de_Barberias_2019\": 6828, \"Suma_de_Numero_de_Barberias_2022\": 8092, \"Cambio_Porcentual\": 18.512009373169303, \"Tipo\": \"Comuna\"}]}}, {\"mode\": \"vega-lite\"});\n",
              "</script>"
            ],
            "text/plain": [
              "alt.Chart(...)"
            ]
          },
          "metadata": {},
          "execution_count": 13
        }
      ]
    }
  ]
}